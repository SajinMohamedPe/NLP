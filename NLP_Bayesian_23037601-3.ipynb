{
  "nbformat": 4,
  "nbformat_minor": 0,
  "metadata": {
    "colab": {
      "provenance": []
    },
    "kernelspec": {
      "name": "python3",
      "display_name": "Python 3"
    },
    "language_info": {
      "name": "python"
    }
  },
  "cells": [
    {
      "cell_type": "markdown",
      "source": [
        "$$P(w_{i}/w_{i-1}) = \\frac{c(w_{i-1}, w_{i})} {c(w_{i-1})}$$\n",
        "\n",
        "prior :  \n",
        "$$P(GB) = \\frac{2} {4} = \\frac{1} {2}$$\n",
        "$$P(IE) = \\frac{2} {4} = \\frac{1} {2}$$\n",
        "\n",
        "Conditional probabilities :\n",
        "$$P(University/GB) = \\frac{0 + 1} {12 + 14} = \\frac{1} {26}$$\n",
        "\n",
        "$$P(of/GB) = \\frac{1 + 1} {12 + 14} = \\frac{2} {26}$$\n",
        "\n",
        "$$P(Limerick/GB) = \\frac{0 + 1} {12 + 14} = \\frac{1} {26}$$\n",
        "\n",
        "$$P(wolves/GB) = \\frac{0 + 1} {12 + 14} = \\frac{1} {26}$$\n",
        "\n",
        "\n",
        "$$P(GB/d5) = P(GB)* P(University/GB) * P(of/GB) * P(Limerick/GB) * P(wolves/GB) =\\frac{1} {2} *  \\frac{1} {26} * \\frac{2} {26} * \\frac{1} {26} * \\frac{1} {26} = \\frac{2} {26^4} = 0.000002188298729$$\n",
        "\n",
        "$$P(University/IE) = \\frac{0 + 1} {12 + 14} = \\frac{1} {26}$$\n",
        "\n",
        "$$P(of/IE) = \\frac{1 + 1} {12 + 14} = \\frac{2} {26}$$\n",
        "\n",
        "$$P(Limerick/IE) = \\frac{1 + 1} {12 + 14} = \\frac{2} {26}$$\n",
        "\n",
        "$$P(wolves/IE) = \\frac{0 + 1} {12 + 14} = \\frac{1} {26}$$\n",
        "\n",
        "$$P(IE/d5) = P(IE)* P(University/IE) * P(of/IE) * P(Limerick/IE) * P(wolves/IE) =\\frac{1} {2} *  \\frac{1} {26} * \\frac{2} {26} * \\frac{2} {26} * \\frac{1} {26} = \\frac{4} {26^4} = 0.0.000004376597458$$\n",
        "\n",
        "\n",
        "Since the probability of IE|d5 exceeds the probability of GB|d5\n",
        "\n",
        "The test would belong to IE"
      ],
      "metadata": {
        "id": "4XcQM7iNW0IE"
      }
    },
    {
      "cell_type": "code",
      "source": [
        "!wget http://ptrckprry.com/course/ssd/data/positive-words.txt\n",
        "!wget http://ptrckprry.com/course/ssd/data/negative-words.txt"
      ],
      "metadata": {
        "colab": {
          "base_uri": "https://localhost:8080/"
        },
        "id": "Sj_-MKkyZg4O",
        "outputId": "84e33078-d492-4bef-d0af-6f0f41c36ce3"
      },
      "execution_count": 1,
      "outputs": [
        {
          "output_type": "stream",
          "name": "stdout",
          "text": [
            "--2023-11-12 09:07:21--  http://ptrckprry.com/course/ssd/data/positive-words.txt\n",
            "Resolving ptrckprry.com (ptrckprry.com)... 185.199.111.153, 185.199.108.153, 185.199.110.153, ...\n",
            "Connecting to ptrckprry.com (ptrckprry.com)|185.199.111.153|:80... connected.\n",
            "HTTP request sent, awaiting response... 301 Moved Permanently\n",
            "Location: https://ptrckprry.com/course/ssd/data/positive-words.txt [following]\n",
            "--2023-11-12 09:07:21--  https://ptrckprry.com/course/ssd/data/positive-words.txt\n",
            "Connecting to ptrckprry.com (ptrckprry.com)|185.199.111.153|:443... connected.\n",
            "HTTP request sent, awaiting response... 200 OK\n",
            "Length: 20630 (20K) [text/plain]\n",
            "Saving to: ‘positive-words.txt’\n",
            "\n",
            "\rpositive-words.txt    0%[                    ]       0  --.-KB/s               \rpositive-words.txt  100%[===================>]  20.15K  --.-KB/s    in 0.001s  \n",
            "\n",
            "2023-11-12 09:07:21 (16.6 MB/s) - ‘positive-words.txt’ saved [20630/20630]\n",
            "\n",
            "--2023-11-12 09:07:22--  http://ptrckprry.com/course/ssd/data/negative-words.txt\n",
            "Resolving ptrckprry.com (ptrckprry.com)... 185.199.111.153, 185.199.108.153, 185.199.110.153, ...\n",
            "Connecting to ptrckprry.com (ptrckprry.com)|185.199.111.153|:80... connected.\n",
            "HTTP request sent, awaiting response... 301 Moved Permanently\n",
            "Location: https://ptrckprry.com/course/ssd/data/negative-words.txt [following]\n",
            "--2023-11-12 09:07:22--  https://ptrckprry.com/course/ssd/data/negative-words.txt\n",
            "Connecting to ptrckprry.com (ptrckprry.com)|185.199.111.153|:443... connected.\n",
            "HTTP request sent, awaiting response... 200 OK\n",
            "Length: 46299 (45K) [text/plain]\n",
            "Saving to: ‘negative-words.txt’\n",
            "\n",
            "negative-words.txt  100%[===================>]  45.21K  --.-KB/s    in 0.007s  \n",
            "\n",
            "2023-11-12 09:07:22 (6.50 MB/s) - ‘negative-words.txt’ saved [46299/46299]\n",
            "\n"
          ]
        }
      ]
    },
    {
      "cell_type": "code",
      "source": [
        "import requests\n",
        "positive = requests.get(\"http://ptrckprry.com/course/ssd/data/positive-words.txt\")\n",
        "positive_text = positive.text.splitlines()\n",
        "# print(type(positive_text))\n",
        "negative = requests.get(\"http://ptrckprry.com/course/ssd/data/negative-words.txt\")\n",
        "negative_text = negative.text.splitlines()\n",
        "\n",
        "def sentimentAnalyzer(string) :\n",
        "  print(string)\n",
        "  words = string.split()\n",
        "\n",
        "  positive_count = 0\n",
        "  negative_count = 0\n",
        "\n",
        "  # iterate through the words split and find if the word is in the positive or negative list of words and increment the counter\n",
        "  for word in words:\n",
        "    if word in positive_text:\n",
        "      positive_count += 1\n",
        "    elif word in negative_text:\n",
        "      negative_count += 1\n",
        "\n",
        "  if (positive_count > negative_count) :\n",
        "    print(\"Positive Sentiment 😊\")\n",
        "    print(\"confidence : \", (positive_count - negative_count)/len(words))\n",
        "  elif (positive_count < negative_count) :\n",
        "    print(\"Negative Sentiment ☹️\")\n",
        "    print(\"confidence : \", (negative_count - positive_count)/len(words))\n",
        "  else :\n",
        "    print(\"Nuetral Sentiment 😐\")\n",
        "    print(\"confidence :\", (positive_count - negative_count) / len(words)\n",
        ")\n",
        "\n",
        "sentimentAnalyzer('NLP is cool')\n",
        "sentimentAnalyzer('NLP is cool and useful')\n",
        "sentimentAnalyzer('NLP is hard')\n",
        "sentimentAnalyzer('NLP is hard and useless')\n",
        "sentimentAnalyzer('NLP stands for Natural Language Processing')\n",
        "\n"
      ],
      "metadata": {
        "colab": {
          "base_uri": "https://localhost:8080/"
        },
        "id": "L-qFgvzQn0SZ",
        "outputId": "bb78030c-5346-48aa-bc8f-715461da6977"
      },
      "execution_count": 17,
      "outputs": [
        {
          "output_type": "stream",
          "name": "stdout",
          "text": [
            "NLP is cool\n",
            "Positive Sentiment 😊\n",
            "confidence :  0.3333333333333333\n",
            "NLP is cool and useful\n",
            "Positive Sentiment 😊\n",
            "confidence :  0.4\n",
            "NLP is hard\n",
            "Negative Sentiment ☹️\n",
            "confidence :  0.3333333333333333\n",
            "NLP is hard and useless\n",
            "Negative Sentiment ☹️\n",
            "confidence :  0.4\n",
            "NLP stands for Natural Language Processing\n",
            "Nuetral Sentiment 😐\n",
            "confidence : 0.0\n"
          ]
        }
      ]
    },
    {
      "cell_type": "code",
      "source": [],
      "metadata": {
        "id": "0IMc6OPvhMu2"
      },
      "execution_count": null,
      "outputs": []
    }
  ]
}