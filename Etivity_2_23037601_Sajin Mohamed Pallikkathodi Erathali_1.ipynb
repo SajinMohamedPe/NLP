{
  "nbformat": 4,
  "nbformat_minor": 0,
  "metadata": {
    "colab": {
      "provenance": []
    },
    "kernelspec": {
      "name": "python3",
      "display_name": "Python 3"
    },
    "language_info": {
      "name": "python"
    }
  },
  "cells": [
    {
      "cell_type": "markdown",
      "source": [
        "Student Name : Sajin Mohamed Pallikkathodi Erathali  \n",
        "Student ID : 23037601"
      ],
      "metadata": {
        "id": "AJcRt-rFZheI"
      }
    },
    {
      "cell_type": "markdown",
      "source": [
        "Task 1: [1 mark]\n",
        "The code provided below is for a recursive function that computes the edit distance between two strings x and y. Modify this code such that:\n",
        "(a) the function measures a weighted edit distance, where  \n",
        "insertion cost = 1, deletion cost = 1\n",
        "substitution cost = 1, if a letter is substituted with another letter\n",
        "substitution cost = 2, if a letter is substituted with a number\n",
        "(b) use the time.time() method to measure the execution time.\n"
      ],
      "metadata": {
        "id": "S-ji1KQaZttm"
      }
    },
    {
      "cell_type": "code",
      "execution_count": 1,
      "metadata": {
        "colab": {
          "base_uri": "https://localhost:8080/"
        },
        "id": "tHQmCLzUZA8O",
        "outputId": "e8ca4eaa-df42-4e58-cb31-2951e17be942"
      },
      "outputs": [
        {
          "output_type": "stream",
          "name": "stdout",
          "text": [
            "The edit distance using recursive method is  4\n",
            "the total time taken is  16.746751308441162\n"
          ]
        }
      ],
      "source": [
        "import time\n",
        "\n",
        "def edDistRecursive(x, y):\n",
        "  if (len(x) == 0) : return len(y)\n",
        "  if len(y) == 0 : return len(x)\n",
        "\n",
        "  delt = 0\n",
        "\n",
        "  if x[-1] != y[-1]:\n",
        "    if x[-1].isalpha() and y[-1].isalpha():\n",
        "        delt = 1 # if both are letters\n",
        "    else:\n",
        "        delt = 2 # if either is anything other than a letter(ie. number)\n",
        "\n",
        "  diag = edDistRecursive(x[:-1], y[:-1]) + delt\n",
        "  vert = edDistRecursive(x[:-1], y) + 1\n",
        "  horz = edDistRecursive(x, y[:-1]) + 1\n",
        "  return min(diag, vert, horz)\n",
        "\n",
        "start_time = time.time()\n",
        "print(\"The edit distance using recursive method is \", edDistRecursive(\"shake spea3\", \"Shakespear\"))  # we expect the result to be 4 as it would take a change of s to S, and deletion of space and replacing 3 with r which cost 2, hence 4\n",
        "end_time = time.time()\n",
        "\n",
        "print(\"the total time taken is \", end_time - start_time)"
      ]
    },
    {
      "cell_type": "markdown",
      "source": [
        "Task 2: [4 marks]\n",
        "To complete this task you need to install two libraries:\n",
        "Install the First and Last Names Dataset (https://github.com/philipperemy/name-dataset).  (!pip install names-dataset)  \n",
        "Install the jellyfish library for doing approximate and phonetic matching of strings (https://github.com/jamesturk/jellyfish)  (!pip install jellyfish)\n",
        "\n",
        "\n"
      ],
      "metadata": {
        "id": "iKf_5ZTXZ8cz"
      }
    },
    {
      "cell_type": "code",
      "source": [
        "!pip install names-dataset\n",
        "!pip install jellyfish"
      ],
      "metadata": {
        "colab": {
          "base_uri": "https://localhost:8080/"
        },
        "id": "QUElm9OoZHLh",
        "outputId": "b523244c-5bcb-4fb3-d0e7-f698fce058a2"
      },
      "execution_count": 2,
      "outputs": [
        {
          "output_type": "stream",
          "name": "stdout",
          "text": [
            "Requirement already satisfied: names-dataset in /usr/local/lib/python3.10/dist-packages (3.1.0)\n",
            "Requirement already satisfied: pycountry in /usr/local/lib/python3.10/dist-packages (from names-dataset) (22.3.5)\n",
            "Requirement already satisfied: setuptools in /usr/local/lib/python3.10/dist-packages (from pycountry->names-dataset) (67.7.2)\n",
            "Requirement already satisfied: jellyfish in /usr/local/lib/python3.10/dist-packages (1.0.1)\n"
          ]
        }
      ]
    },
    {
      "cell_type": "markdown",
      "source": [
        "Write a function that takes your firstName and lastName as input and checks if they exist in the First and Last Names dataset."
      ],
      "metadata": {
        "id": "RWEDDSMLaB1V"
      }
    },
    {
      "cell_type": "code",
      "source": [
        "from names_dataset import NameDataset, NameWrapper\n",
        "\n",
        "def name_check(firstName, lastName):\n",
        "  name_data = NameDataset()\n",
        "  # first_name_exists = firstName.lower() in [name.lower() for name in name_data.first_names]. # this also works but I am using the search function provided by the NameDataset in the approach below.\n",
        "  # last_name_exists = lastName.lower() in [name.lower() for name in name_data.last_names]\n",
        "  first_Name = name_data.search(firstName)\n",
        "  last_Name = name_data.search(lastName)\n",
        "\n",
        "  if first_Name['first_name'] is None:\n",
        "    first_name_exists = False\n",
        "  else :\n",
        "    first_name_exists = True\n",
        "\n",
        "  if last_Name['last_name'] is None:\n",
        "    last_name_exists = False\n",
        "  else :\n",
        "    last_name_exists = True\n",
        "  return first_name_exists, last_name_exists\n",
        "\n",
        "\n",
        "firstName = \"Morris\"\n",
        "lastName = \"jacaoewe\"\n",
        "firstNameExists, lastNameExists = name_check(firstName,lastName)\n",
        "if (firstNameExists and lastNameExists) :\n",
        "  print(\"There exists a person with the first name \", firstName, \"and last name \", lastName)\n",
        "elif (firstNameExists and not lastNameExists) :\n",
        "  print(\"There exists a person with the first name \", firstName, \"and but not with last name \", lastName)\n",
        "elif (not firstNameExists and lastNameExists) :\n",
        "  print(\"There exists a person with the last name \", lastName, \"and but not with first name \", firstName)\n",
        "else :\n",
        "  print(\"There exists no person with the first name \", firstName, \"and last name \", lastName)\n",
        "\n"
      ],
      "metadata": {
        "colab": {
          "base_uri": "https://localhost:8080/"
        },
        "id": "c5POMclsZQ5l",
        "outputId": "2b69fb1e-7b47-4511-9a4b-dbd3b212cf17"
      },
      "execution_count": 3,
      "outputs": [
        {
          "output_type": "stream",
          "name": "stdout",
          "text": [
            "There exists a person with the first name  Morris and but not with last name  jacaoewe\n"
          ]
        }
      ]
    },
    {
      "cell_type": "markdown",
      "source": [
        "Write a function that takes your firstName and lastName as input and prints out their  Soundex codes (use the Soundex function in the jellyfish library)."
      ],
      "metadata": {
        "id": "lETJwN5CaG8e"
      }
    },
    {
      "cell_type": "code",
      "source": [
        "import jellyfish\n",
        "\n",
        "def find_soundex(firstName, lastName):\n",
        "  soundex_firstName = jellyfish.soundex(firstName)\n",
        "  soundex_lastName = jellyfish.soundex(lastName)\n",
        "\n",
        "  print(\"Soundex of first and last name are \", soundex_firstName, \" and \", soundex_lastName)\n",
        "\n",
        "firstName = \"Philippe\"\n",
        "lastName = \"Morris\"\n",
        "find_soundex(firstName, lastName)\n"
      ],
      "metadata": {
        "colab": {
          "base_uri": "https://localhost:8080/"
        },
        "id": "3G0VnHvNZTle",
        "outputId": "51907967-b94d-40d4-b4d6-6b8d2d5da72e"
      },
      "execution_count": 4,
      "outputs": [
        {
          "output_type": "stream",
          "name": "stdout",
          "text": [
            "Soundex of first and last name are  P410  and  M620\n"
          ]
        }
      ]
    },
    {
      "cell_type": "markdown",
      "source": [
        "\n",
        "Write a function that takes your firstName as input and prints out a list of first names in the dataset whose Soundex codes are the same as your firstName’s Soundex code.   \n",
        "\n",
        "Approach followed is to iterate through the first names with Soundex matching the Soundex of the firstName\n"
      ],
      "metadata": {
        "id": "MC-UJEBnaLOI"
      }
    },
    {
      "cell_type": "code",
      "source": [
        "import jellyfish\n",
        "\n",
        "def find_similar_first_name(firstName):\n",
        "  similar_first_name_list = []\n",
        "  name_data = NameDataset()\n",
        "  for fn in name_data.first_names:\n",
        "    if (jellyfish.soundex(firstName) == jellyfish.soundex(fn)) :\n",
        "        similar_first_name_list.append(fn)\n",
        "\n",
        "  return similar_first_name_list\n",
        "\n",
        "\n",
        "firstName = \"Morris\"\n",
        "print(f\"The names in the NameDataset with Soundex same as the {firstName} are \", find_similar_first_name(firstName))"
      ],
      "metadata": {
        "colab": {
          "base_uri": "https://localhost:8080/"
        },
        "id": "xBWPktw_ZbGM",
        "outputId": "a3382c7a-af93-4bd0-85ee-6976c6c9dd53"
      },
      "execution_count": 5,
      "outputs": [
        {
          "output_type": "stream",
          "name": "stdout",
          "text": [
            "The names in the NameDataset with Soundex same as the Morris are  ['M Arius', 'M Raj', 'M Raju', 'M Raza', 'M Reyes', 'M Reza', 'M Riaz', 'M Rizky', 'M Rocio', 'M Rosa', 'M Rose', 'M-Reza', 'Ma Ri Ja', 'Ma Rosa', 'Maahrukh', 'Maarc', 'Maarce', 'Maarek', 'Maarica', 'Maarija', 'Maarika', 'Maaris', 'Maarius', 'Maariusz', 'Maarja', 'Maarjo', 'Maarko', 'Maarušaa', 'Maercio', 'Maereg', 'Maerk', 'Maersk', 'Mah Rez', 'Maharaj', 'Maharaja', 'Maharajah', 'Maharaz', 'Maharazou', 'Maharazu', 'Maharez', 'Maharishi', 'Maharshi', 'Maharzia', 'Maherz', 'Maherzia', 'Mahrach', 'Mahraj', 'Mahraz', 'Mahrez', 'Mahrokh', 'Mahrooz', 'Mahros', 'Mahrouch', 'Mahroug', 'Mahrous', 'Mahrukh', 'Mahruq', 'Mahrus', 'Mahrz', 'Mahrzia', 'Mairaj', 'Mairash', 'Maires', 'Mairiga', 'Mairika', 'Mairis', 'Mar Ek', 'Mar Ko', 'Mar-C', 'Mara K', 'Marac', 'Maraca', 'Maragh', 'Maraike', 'Marais', 'Maraisa', 'Maraiza', 'Maraizu', 'Maraj', 'Marajka', 'Marak', 'Maraka', 'Marakchi', 'Maraki', 'Marakia', 'Maraq', 'Maras', 'Marasa', 'Marasco', 'Marash', 'Marashi', 'Marax', 'Maraysa', 'Maraz', 'Maraza', 'Marazo', 'Marazy', 'Maraş', 'Maraš', 'Marc', 'Marc O', 'Marca', 'Marcao', 'Marcco', 'Marce', 'Marceau', 'Marcee', 'Marcey', 'March', 'Marcha', 'Marche', 'Marchew', 'Marchewa', 'Marchi', 'Marchie', 'Marcho', 'Marchu', 'Marchy', 'Marci', 'Marcia', 'Marciaa', 'Marciah', 'Marcie', 'Marcii', 'Marciia', 'Marciio', 'Marcio', 'Marcioo', 'Marck', 'Marckie', 'Marcko', 'Marcky', 'Marco', 'Marco A', 'Marco E', 'Marcoa', 'Marcoo', 'Marcou', 'Marcs', 'Marcsi', 'Marcsii', 'Marcso', 'Marcsu', 'Marcsy', 'Marcu', 'Marcy', 'Marcya', 'Marcyo', 'Marczi', 'Marczy', 'Marcão', 'Marcí', 'Marcío', 'Marcó', 'Marcø', 'Marec', 'Marecia', 'Mareck', 'Marecki', 'Mareco', 'Marees', 'Mareez', 'Mareg', 'Marega', 'Mareika', 'Mareike', 'Mareja', 'Marek', 'Mareka', 'Mareke', 'Marekh', 'Marekhi', 'Marekk', 'Mareko', 'Mareks', 'Mareos', 'Mareq', 'Mares', 'Maresa', 'Maresca', 'Marese', 'Maresh', 'Maresha', 'Maresi', 'Mareska', 'Maressa', 'Maresz', 'Mareus', 'Mareusz', 'Marex', 'Marexi', 'Marez', 'Mareza', 'Mareš', 'Mareș', 'Marg', 'Marga', 'Margaa', 'Marge', 'Margea', 'Marggi', 'Marggie', 'Marggy', 'Marghe', 'Marghi', 'Marghy', 'Margi', 'Margia', 'Margie', 'Margio', 'Margje', 'Margo', 'Margoo', 'Margs', 'Margu', 'Margue', 'Margui', 'Marguie', 'Marguo', 'Marguy', 'Margy', 'Margz', 'Margé', 'Margò', 'Margó', 'Margô', 'Mari C', 'Mari Chuy', 'Mari Gio', 'Mari Jo', 'Maria Aiza', 'Maria C', 'Maria Ceu', 'Maria Céu', 'Maria Euge', 'Maria G', 'Maria Gioia', 'Maria Isa', 'Maria J', 'Maria Jo', 'Maria Joao', 'Maria Joy', 'Maria Joâo', 'Maria João', 'Maria Joāo', 'Maria K', 'Maria S', 'Maria São', 'Maria X', 'Maria Yoko', 'Maria Ze', 'Maria Zé', 'Maria-K', 'Mariac', 'Mariaca', 'Mariace', 'Mariach', 'Mariachi', 'Mariage', 'Mariah X', 'Mariaj', 'Mariaje', 'Mariajo', 'Mariajoao', 'Mariajoão', 'Mariak', 'Mariake', 'Marias', 'Mariash', 'Mariaska', 'Mariauxi', 'Maric', 'Marica', 'Maricaa', 'Marice', 'Mariceia', 'Mariceu', 'Maricha', 'Mariche', 'Marichi', 'Marichie', 'Marichka', 'Maricho', 'Marichu', 'Marichui', 'Marichuy', 'Marici', 'Maricia', 'Maricio', 'Marick', 'Maricka', 'Marico', 'Marics', 'Maricsa', 'Mariczka', 'Maricéu', 'Maricò', 'Marie J', 'Marie Jo', 'Marie Joe', 'Marie Joy', 'Marie-C', 'Marie-Jo', 'Marie-Joe', 'Marieca', 'Mariecke', 'Marieiosa', 'Mariejo', 'Mariejoe', 'Mariejoy', 'Mariek', 'Marieka', 'Marieke', 'Maries', 'Mariesa', 'Mariesha', 'Mariez', 'Mariga', 'Marige', 'Marigo', 'Marigw', 'Marii Jo', 'Mariichuy', 'Mariija', 'Mariijo', 'Mariika', 'Mariikka', 'Mariis', 'Mariisa', 'Marij', 'Marija', 'Marijaa', 'Marijcke', 'Marije', 'Marijka', 'Marijke', 'Marijo', 'Marijoo', 'Marijoy', 'Marijs', 'Marijse', 'Mariju', 'Marijó', 'Marik', 'Marika', 'Marikaa', 'Marikai', 'Marike', 'Mariki', 'Marikie', 'Marikka', 'Marikki', 'Marikko', 'Mariko', 'Mariks', 'Mario C', 'Mario G', 'Mario Hugo', 'Mario J', 'Mario Joao', 'Mario João', 'Marioco', 'Marioko', 'Marios', 'Mariosa', 'Marioso', 'Marious', 'Mariq', 'Mariqui', 'Maris', 'Marisa', 'Marisaa', 'Marisca', 'Marischa', 'Marischka', 'Marisco', 'Marise', 'Marish', 'Marisha', 'Marishka', 'Marisi', 'Marisia', 'Marisja', 'Mariska', 'Mariske', 'Marisky', 'Mariso', 'Mariss', 'Marissa', 'Marisse', 'Marisu', 'Marisz', 'Marisé', 'Marisú', 'Mariuaz', 'Mariuca', 'Mariucca', 'Mariuccia', 'Mariuccio', 'Mariuchi', 'Marius', 'Mariusa', 'Mariush', 'Mariusi', 'Mariuska', 'Mariuss', 'Mariusx', 'Mariusz', 'Mariusza', 'Mariuszz', 'Mariuusz', 'Mariux', 'Mariuxi', 'Mariuxii', 'Mariuxy', 'Mariuz', 'Mariuza', 'Mariwka', 'Marix', 'Marixa', 'Marixsa', 'Marixza', 'Mariyash', 'Mariyka', 'Mariz', 'Mariza', 'Marizah', 'Marize', 'Marizi', 'Marizia', 'Marizu', 'Marizz', 'Marizza', 'Marizé', 'Mariøs', 'Marić', 'Mariša', 'Marj', 'Marja', 'Marjai', 'Marjay', 'Marje', 'Marjho', 'Marji', 'Marjia', 'Marjie', 'Marjiee', 'Marjio', 'Marjiya', 'Marjjo', 'Marjo', 'Marjoe', 'Marjoo', 'Marjs', 'Marju', 'Marjuu', 'Marjz', 'Mark', 'Mark A', 'Marka', 'Markc', 'Marke', 'Markee', 'Markey', 'Markha', 'Marki', 'Markia', 'Markie', 'Markii', 'Markjay', 'Markka', 'Markki', 'Markko', 'Markku', 'Marko', 'Markoo', 'Markou', 'Marks', 'Marku', 'Marky', 'Markz', 'Marké', 'Markí', 'Markíí', 'Markò', 'Markó', 'Markø', 'Marký', 'Maroc', 'Maroca', 'Marocco', 'Maroci', 'Maroco', 'Maroesa', 'Maroesja', 'Maroesjka', 'Maroeska', 'Maroje', 'Marojka', 'Marok', 'Maroki', 'Marokko', 'Maroko', 'Marooc', 'Maroosh', 'Maroosha', 'Maros', 'Marosa', 'Marose', 'Marosh', 'Marosha', 'Maroshka', 'Marosi', 'Maroska', 'Maroso', 'Marouch', 'Maroucha', 'Marouk', 'Marouki', 'Marousa', 'Marouscha', 'Marouschka', 'Maroush', 'Marousha', 'Maroushka', 'Marouska', 'Marouso', 'Maroussa', 'Maroussia', 'Maroš', 'Marq', 'Marqs', 'Marque', 'Marquee', 'Marqui', 'Marrakchi', 'Marras', 'Marrazzo', 'Marrek', 'Marrgs', 'Marrica', 'Marrigje', 'Marris', 'Marrisa', 'Marrisha', 'Marrissa', 'Marrja', 'Marrk', 'Marrouki', 'Marrus', 'Marry Gea', 'Marry J', 'Marry Joy', 'Marryjoy', 'Mars', 'Marsa', 'Marsaoui', 'Marsawi', 'Marscha', 'Marsco', 'Marse', 'Marsh', 'Marsha', 'Marshae', 'Marshay', 'Marshi', 'Marshy', 'Marsi', 'Marsia', 'Marsiah', 'Marsie', 'Marsii', 'Marsio', 'Marsiya', 'Marsja', 'Marski', 'Marskie', 'Marskoi', 'Marsku', 'Marso', 'Marsou', 'Marss', 'Marssi', 'Marssy', 'Marsu', 'Marsy', 'Marsya', 'Marsé', 'Marsí', 'Marsî', 'Maruage', 'Maruca', 'Marucha', 'Maruchi', 'Maruchy', 'Maruis', 'Maruisz', 'Maruius', 'Maruja', 'Marujo', 'Maruka', 'Maruko', 'Maruos', 'Marus', 'Marusa', 'Marusca', 'Maruschka', 'Maruse', 'Marusea', 'Marusha', 'Marushka', 'Marusia', 'Marusja', 'Maruska', 'Maruskha', 'Marusq', 'Marusya', 'Marusz', 'Marusza', 'Maruxa', 'Maruxi', 'Maruxka', 'Maruza', 'Maruś', 'Maruš', 'Maruša', 'Maruše', 'Marwick', 'Marwoucha', 'Marwsh', 'Marx', 'Marxa', 'Marxi', 'Marxiu', 'Mary Akua', 'Mary C', 'Mary Chuy', 'Mary G', 'Mary J', 'Mary Jo', 'Mary Joe', 'Mary Joie', 'Mary Joy', 'Mary K', 'Mary Kay', 'Mary Owusu', 'Mary Sue', 'Mary-Jo', 'Mary-Joe', 'Mary-Joy', 'Maryak', 'Maryash', 'Maryasha', 'Maryc', 'Maryca', 'Maryce', 'Marych', 'Marycha', 'Marychu', 'Marychuy', 'Maryis', 'Maryj', 'Maryja', 'Maryje', 'Maryjhoy', 'Maryjka', 'Maryjo', 'Maryjoe', 'Maryjoy', 'Maryk', 'Maryka', 'Marykay', 'Maryke', 'Marys', 'Marysa', 'Marysco', 'Maryse', 'Marysia', 'Marysiaa', 'Maryska', 'Maryss', 'Maryssa', 'Maryus', 'Maryx', 'Maryz', 'Maryś', 'Maryša', 'Marz', 'Marza', 'Marze', 'Marzeh', 'Marzeih', 'Marzeya', 'Marzeye', 'Marzeyeh', 'Marzi', 'Marzia', 'Marziah', 'Marzie', 'Marzieh', 'Marzio', 'Marziya', 'Marziye', 'Marziyeh', 'Marziyh', 'Marzja', 'Marzka', 'Marzkie', 'Marzo', 'Marzy', 'Marzya', 'Marzye', 'Marzyeh', 'Marzz', 'Marácz', 'Maráczi', 'Maráz', 'Marçia', 'Marçio', 'Março', 'Marìka', 'María C', 'María J', 'María Jo', 'Maríja', 'Maríosa', 'Marísia', 'Maríus', 'Marč', 'Marča', 'Marči', 'Marįja', 'Marš', 'Marša', 'Maurace', 'Maurcio', 'Maureci', 'Mauric', 'Maurica', 'Maurice', 'Mauricea', 'Mauriceia', 'Maurichia', 'Maurichu', 'Maurici', 'Mauricia', 'Mauricii', 'Mauriciio', 'Mauricio', 'Mauricio A', 'Maurico', 'Mauricéia', 'Mauricío', 'Mauriiciio', 'Mauriicio', 'Maurik', 'Mauris', 'Maurisa', 'Maurise', 'Maurisha', 'Maurishia', 'Maurisio', 'Maurisjo', 'Maurixio', 'Mauriza', 'Maurizi', 'Maurizia', 'Maurizio', 'Maurizo', 'Maurizzio', 'Mauriçio', 'Maurock', 'Mauros', 'Maurucio', 'Maurus', 'Maurycio', 'Maurycy', 'Maurícia', 'Maurício', 'Mauuricio', 'Mawrkko', 'May Rose', 'Mayaris', 'Mayerus', 'Mayorca', 'Mayorga', 'Mayris', 'Mayriska', 'Mayriss', 'Mayrose', 'Mayuresh', 'Mayuris', 'Małrycy', 'Mařka', 'Mearaj', 'Mearg', 'Mears', 'Mee Ruusa', 'Meeragha', 'Meerak', 'Meerasa', 'Meerwais', 'Meharaj', 'Meheraj', 'Meheraz', 'Meherz', 'Meherzi', 'Meherzia', 'Mehrac', 'Mehraj', 'Mehrak', 'Mehras', 'Mehrasa', 'Mehraz', 'Mehrez', 'Mehriz', 'Mehroj', 'Mehrsa', 'Mehrz', 'Mehrzi', 'Mehrzia', 'Meireza', 'Mer C', 'Merac', 'Merag', 'Meraj', 'Merak', 'Meraki', 'Meras', 'Meraz', 'Merc', 'Merca', 'Merce', 'Merche', 'Merchi', 'Merchia', 'Merchu', 'Merchy', 'Merci', 'Mercia', 'Merciah', 'Mercie', 'Mercii', 'Mercio', 'Merckx', 'Merco', 'Mercs', 'Mercu', 'Mercy', 'Mercy A', 'Mercè', 'Mercé', 'Mereck', 'Mereisi', 'Merejo', 'Merek', 'Mereke', 'Meresa', 'Meresse', 'Mereuge', 'Merga', 'Merge', 'Mergi', 'Mergie', 'Mergiya', 'Mergo', 'Merhej', 'Meric', 'Merica', 'Merici', 'Mericia', 'Merick', 'Meriga', 'Merije', 'Merik', 'Merika', 'Merike', 'Merikki', 'Meriko', 'Merios', 'Meris', 'Merisa', 'Merisca', 'Merish', 'Merisha', 'Merissa', 'Merius', 'Meriza', 'Meriç', 'Merièze', 'Merj', 'Merja', 'Merje', 'Merju', 'Merk', 'Merka', 'Merki', 'Merkku', 'Merko', 'Merky', 'Merqui', 'Merres', 'Merrica', 'Merrick', 'Merrouche', 'Merry C', 'Merry Joy', 'Merryjoy', 'Merrys', 'Mers', 'Mersa', 'Mersch', 'Merse', 'Mersea', 'Mersha', 'Mersi', 'Mersia', 'Mersie', 'Mersih', 'Mersiha', 'Mersiye', 'Merso', 'Mersu', 'Mersy', 'Merugu', 'Meruj', 'Merushe', 'Merwais', 'Merwas', 'Merwis', 'Merx', 'Merxe', 'Merxi', 'Merys', 'Merz', 'Merza', 'Merzai', 'Merze', 'Merzi', 'Merzih', 'Merziye', 'Merziyye', 'Merzo', 'Merzuha', 'Merçe', 'Merícia', 'Meurig', 'Meuriz', 'Meyers', 'Meyrick', 'Mharc', 'Mharck', 'Mhargie', 'Mhariko', 'Mhariz', 'Mharj', 'Mhark', 'Mhars', 'Mharz', 'Mhercy', 'Mherz', 'Mhrez', 'Mia Rose', 'Mia-Riikka', 'Miarech', 'Mihrac', 'Mihrace', 'Mihraç', 'Mihrez', 'Mihrija', 'Mihrije', 'Mihrişah', 'Miirsa', 'Miorq', 'Mir Agha', 'Mir Aqa', 'Mir Wais', 'Miraasha', 'Mirac', 'Miraci', 'Miraga', 'Mirage', 'Miragha', 'Miraj', 'Mirak', 'Miraka', 'Miraqa', 'Miras', 'Mirash', 'Mirashi', 'Miraxh', 'Miraz', 'Mirazh', 'Miraç', 'Mirağa', 'Miraš', 'Mirc', 'Mirca', 'Mircca', 'Mirce', 'Mircea', 'Mirch', 'Mircha', 'Mircho', 'Mirci', 'Mircia', 'Mircio', 'Mircko', 'Mirco', 'Mircy', 'Mirec', 'Mirecka', 'Mirecki', 'Mireczka', 'Mireisa', 'Mireiza', 'Mirej', 'Mireja', 'Mirek', 'Mirek Ewa', 'Mireka', 'Mirekk', 'Mireku', 'Mirekua', 'Mires', 'Mireusa', 'Mirex', 'Mireysa', 'Mireyza', 'Mirga', 'Mirgi', 'Mirgia', 'Mirhaj', 'Miric', 'Mirica', 'Mirice', 'Miriikka', 'Mirija', 'Mirije', 'Mirika', 'Miris', 'Mirisa', 'Mirish', 'Mirishahe', 'Mirisoy', 'Miriss', 'Mirisse', 'Mirizzi', 'Mirj', 'Mirja', 'Mirje', 'Mirjo', 'Mirk', 'Mirka', 'Mirke', 'Mirkka', 'Mirkko', 'Mirkku', 'Mirko', 'Mirkoo', 'Mirks', 'Mirkó', 'Miroje', 'Mirok', 'Miros', 'Mirosa', 'Mirose', 'Mirosh', 'Miroshe', 'Mirosław', 'Mirosława', 'Mirosłw', 'Mirous', 'Mirouš', 'Miroš', 'Mirs', 'Mirsa', 'Mirsha', 'Mirsi', 'Mirsie', 'Mirso', 'Mirsy', 'Mirsław', 'Miruaash', 'Mirucha', 'Mirugia', 'Mirus', 'Mirush', 'Mirushe', 'Mirushka', 'Mirusia', 'Miruska', 'Miruś', 'Miruš', 'Miruše', 'Mirwaes', 'Mirwais', 'Mirwaise', 'Mirwas', 'Mirways', 'Mirweis', 'Mirwes', 'Mirwias', 'Mirwis', 'Mirys', 'Mirz', 'Mirza', 'Mirzaa', 'Mirzaee', 'Mirzaei', 'Mirzaie', 'Mirzayi', 'Mirze', 'Mirziya', 'Mirzo', 'Mirzə', 'Mirço', 'Mirća', 'Mirč', 'Mirča', 'Miyaraj', 'Miyras', 'Mmereki', 'Moerico', 'Moharaj', 'Moharos', 'Mohorič', 'Moorosi', 'Moors', 'Morace', 'Moraes', 'Morag', 'Moraga', 'Morais', 'Moraka', 'Morake', 'Morasho', 'Moraswi', 'Morawiec', 'Morača', 'Morcee', 'Morci', 'Morecia', 'Moreece', 'Morees', 'Morej', 'Morek', 'Moreki', 'Moreko', 'Mores', 'Morex', 'Morg', 'Morga', 'Morghi', 'Moriaki', 'Moric', 'Morice', 'Moricho', 'Moricz', 'Mories', 'Morihiko', 'Morika', 'Morikawa', 'Morioka', 'Moris', 'Morisa', 'Morisco', 'Morisha', 'Morisi', 'Morisk', 'Moriski', 'Morisky', 'Moriss', 'Moriwake', 'Moriwaki', 'Moriyasu', 'Moriyuki', 'Moriz', 'Morić', 'Mork', 'Morka', 'Morkeh', 'Morko', 'Morks', 'Morocha', 'Morochaa', 'Morocho', 'Moroco', 'Moroesi', 'Morogai', 'Morojwa', 'Moroka', 'Moroke', 'Morosi', 'Moroz', 'Morries', 'Morris', 'Morroco', 'Mors', 'Morsay', 'Morse', 'Morsi', 'Morsia', 'Morska', 'Morski', 'Morso', 'Morsy', 'Morwesi', 'Morze', 'Morzsi', 'Morče', 'Mourece', 'Mourek', 'Mouric', 'Mourice', 'Mouris', 'Mořský', 'Mrahc', 'Mraj', 'Mraju', 'Mrak', 'Mrakchi', 'Mrako', 'Mrassi', 'Mraz', 'Mrazo', 'Mrc', 'Mrch', 'Mrcs E', 'Mrejo', 'Mrek', 'Mrekza', 'Mreza', 'Mrezgui', 'Mric', 'Mrich', 'Mrick', 'Mrija', 'Mrije', 'Mrik', 'Mrika', 'Mrike', 'Mrios', 'Mrj', 'Mrjo', 'Mrk', 'Mrka', 'Mrki', 'Mrko', 'Mrks', 'Mrky', 'Mroj', 'Mrok', 'Mroosh', 'Mrosa', 'Mrose', 'Mrosh', 'Mrosław', 'Mrowka', 'Mroz', 'Mroza', 'Mrož', 'Mrriki', 'Mrrock', 'Mrrush', 'Mrsa', 'Mrsc', 'Mrshah', 'Mrss', 'Mrswck', 'Mrx', 'Mryoji', 'Mrysia', 'Mryus', 'Mrz', 'Mrzz', 'Mráz', 'Mróz', 'Mu Ru Saw', 'Muharraq', 'Muharukua', 'Muharukwa', 'Muiriosa', 'Muiris', 'Muraki', 'Murako', 'Murasha', 'Muraz', 'Muraza', 'Murazi', 'Murazı', 'Murcia', 'Murg', 'Murga', 'Murgia', 'Murgja', 'Muric', 'Murice', 'Muricio', 'Muriic', 'Murija', 'Murik', 'Muriko', 'Muriqi', 'Muris', 'Murisa', 'Muriz', 'Murić', 'Murja', 'Murk', 'Murka', 'Murki', 'Murko', 'Murooj', 'Murrays', 'Murrough', 'Mursa', 'Mursu', 'Muruga', 'Murugaiah', 'Murugaiya', 'Murugiah', 'Muruko', 'Murus', 'Muruz', 'Murz', 'Murza', 'Murzsa', 'Myerjaie', 'Myers', 'Myhyrije', 'Myrass', 'Myrcéa', 'Myrese', 'Myrice', 'Myris', 'Myrish', 'Myrisse', 'Myrka', 'Myros', 'Myrsia', 'Myrsky', 'Myrza', 'Myrèse', 'Màrcia', 'Màrius', 'Màrk', 'Màrko', 'Márcia', 'Márciaa', 'Márciia', 'Márciio', 'Márcio', 'Márcya', 'Márcyo', 'Márika', 'Mário João', 'Máris', 'Máriusz', 'Máriás', 'Márk', 'Márki', 'Márko', 'Márkó', 'Máros', 'Mársi', 'Mársy', 'Márus', 'Márč', 'Mâr Űxį', 'Märc', 'Märcu', 'Märcïä', 'Märcö', 'Märk', 'Mårïs', 'Mércia', 'Méreg', 'Mírcia', 'Mírek', 'Míírek', 'Mîrza', 'Móric', 'Móricz', 'Mórocz', 'Mórocza', 'Mórucz', 'Mörkö', 'Mühərrik', 'Mürgi', 'Māris', 'Mārkøø', 'Mırac', 'Mıraz', 'Mŕś', 'Mịṟjāṳā']\n"
          ]
        }
      ]
    },
    {
      "cell_type": "markdown",
      "source": [
        "\n",
        "Write a function that takes your firstName and lastName as input and returns their Levenshtein Distance (use the Levenshtein Distance function in the jellyfish library)."
      ],
      "metadata": {
        "id": "PgJRnVKwaV9z"
      }
    },
    {
      "cell_type": "code",
      "source": [
        "def find_levenshtein_distance(firstName, lastName):\n",
        "  return jellyfish.levenshtein_distance(firstName, lastName)\n",
        "\n",
        "firstName = \"Morris\"\n",
        "lastName = \"Philippe\"\n",
        "levenshtein_distance = find_levenshtein_distance(firstName, lastName)\n",
        "print(f\"The Levenshtein distance between {firstName} and {lastName} is \", levenshtein_distance)\n"
      ],
      "metadata": {
        "colab": {
          "base_uri": "https://localhost:8080/"
        },
        "id": "ss9jdK8hZeMn",
        "outputId": "7eb88674-c36c-4754-bdf1-6b94dbed4acc"
      },
      "execution_count": 6,
      "outputs": [
        {
          "output_type": "stream",
          "name": "stdout",
          "text": [
            "The Levenshtein distance between Morris and Philippe is  7\n"
          ]
        }
      ]
    }
  ]
}